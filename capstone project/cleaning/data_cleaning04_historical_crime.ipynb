{
 "cells": [
  {
   "cell_type": "code",
   "execution_count": 54,
   "metadata": {
    "collapsed": true
   },
   "outputs": [],
   "source": [
    "import pandas as pd"
   ]
  },
  {
   "cell_type": "code",
   "execution_count": 2,
   "metadata": {
    "collapsed": false
   },
   "outputs": [],
   "source": [
    "# read excel file \n",
    "dic_of_dfs2 = pd.read_excel('CRM02.xls', sheetname=None)\n",
    "dic_of_dfs1 = pd.read_excel('CRM01.xls', sheetname=None)\n",
    "dic_of_dfs3 = pd.read_excel('CRM03.xls', sheetname=None)\n",
    "#reads in as a dictionary of datframe"
   ]
  },
  {
   "cell_type": "code",
   "execution_count": 3,
   "metadata": {
    "collapsed": false,
    "scrolled": false
   },
   "outputs": [],
   "source": [
    "#selectin sheets from dictionary to a dataframe\n",
    "#excel file 1\n",
    "CRM1_1 = dic_of_dfs1['Sheet1']\n",
    "CRM1_2 = dic_of_dfs1['Sheet2']\n",
    "CRM1_3 = dic_of_dfs1['Sheet3']\n",
    "CRM1_4 = dic_of_dfs1['Sheet4']\n",
    "CRM1_5 = dic_of_dfs1['Sheet5']\n",
    "CRM1_6 = dic_of_dfs1['Sheet6']\n",
    "CRM1_7 = dic_of_dfs1['Sheet7']\n",
    "CRM1_8 = dic_of_dfs1['Sheet8']\n",
    "CRM1_9 = dic_of_dfs1['Sheet9']\n",
    "CRM1_10 = dic_of_dfs1['Sheet10']\n",
    "#excel file 2\n",
    "CRM2_1 = dic_of_dfs2['Sheet1']\n",
    "CRM2_2 = dic_of_dfs2['Sheet2']\n",
    "CRM2_3 = dic_of_dfs2['Sheet3']\n",
    "CRM2_4 = dic_of_dfs2['Sheet4']\n",
    "CRM2_5 = dic_of_dfs2['Sheet5']\n",
    "CRM2_6 = dic_of_dfs2['Sheet6']\n",
    "CRM2_7 = dic_of_dfs2['Sheet7']\n",
    "CRM2_8 = dic_of_dfs2['Sheet8']\n",
    "CRM2_9 = dic_of_dfs2['Sheet9']\n",
    "CRM2_10 = dic_of_dfs2['Sheet10']\n",
    "# Excel File 3\n",
    "CRM3_1 = dic_of_dfs3['Sheet1']\n",
    "CRM3_2 = dic_of_dfs3['Sheet2']\n",
    "CRM3_3 = dic_of_dfs3['Sheet3']\n",
    "CRM3_4 = dic_of_dfs3['Sheet4']\n",
    "\n",
    "data = pd.concat([CRM1_1, CRM1_2, CRM1_3, CRM1_4, CRM1_5, CRM1_6, CRM1_7, CRM1_8, CRM1_9, CRM1_10,\n",
    "                 CRM2_1, CRM2_2, CRM2_3, CRM2_4, CRM2_5, CRM2_6, CRM2_7, CRM2_8, CRM2_9, CRM2_10,\n",
    "                 CRM3_1, CRM3_2, CRM3_3, CRM3_4], axis=1) "
   ]
  },
  {
   "cell_type": "code",
   "execution_count": 27,
   "metadata": {
    "collapsed": false
   },
   "outputs": [],
   "source": [
    "#ny_df = data[data.Areaname == 'Kings, NY']\n",
    "ny_df_ny = data.loc[1862, :]\n",
    "ny_df_nyc = data.loc[1886, :]\n",
    "ny_df = pd.concat([ny_df_ny, ny_df_nyc], axis=1)\n",
    "#ufo.loc[0, :]\n",
    "#ufo.loc[:, 'City'] "
   ]
  },
  {
   "cell_type": "code",
   "execution_count": 33,
   "metadata": {
    "collapsed": false
   },
   "outputs": [
    {
     "data": {
      "text/html": [
       "<div>\n",
       "<table border=\"1\" class=\"dataframe\">\n",
       "  <thead>\n",
       "    <tr style=\"text-align: right;\">\n",
       "      <th></th>\n",
       "      <th>1862</th>\n",
       "      <th>1886</th>\n",
       "    </tr>\n",
       "  </thead>\n",
       "  <tbody>\n",
       "    <tr>\n",
       "      <th>Areaname</th>\n",
       "      <td>NEW YORK</td>\n",
       "      <td>Kings, NY</td>\n",
       "    </tr>\n",
       "    <tr>\n",
       "      <th>STCOU</th>\n",
       "      <td>36000</td>\n",
       "      <td>36047</td>\n",
       "    </tr>\n",
       "    <tr>\n",
       "      <th>CRM110181F</th>\n",
       "      <td>0</td>\n",
       "      <td>1</td>\n",
       "    </tr>\n",
       "    <tr>\n",
       "      <th>CRM110181D</th>\n",
       "      <td>185592</td>\n",
       "      <td>157080</td>\n",
       "    </tr>\n",
       "    <tr>\n",
       "      <th>CRM110181N1</th>\n",
       "      <td>0</td>\n",
       "      <td>5056</td>\n",
       "    </tr>\n",
       "  </tbody>\n",
       "</table>\n",
       "</div>"
      ],
      "text/plain": [
       "                 1862       1886\n",
       "Areaname     NEW YORK  Kings, NY\n",
       "STCOU           36000      36047\n",
       "CRM110181F          0          1\n",
       "CRM110181D     185592     157080\n",
       "CRM110181N1         0       5056"
      ]
     },
     "execution_count": 33,
     "metadata": {},
     "output_type": "execute_result"
    }
   ],
   "source": [
    "ny_df.head()"
   ]
  },
  {
   "cell_type": "code",
   "execution_count": 43,
   "metadata": {
    "collapsed": false
   },
   "outputs": [],
   "source": [
    "ny_df1 = ny_df.loc[['Areaname','CRM110181D', 'CRM110182D', 'CRM110183D', 'CRM110184D', 'CRM110185D', 'CRM110186D', 'CRM110187D', 'CRM110188D', 'CRM110189D','CRM110190D', 'CRM110191D', 'CRM110192D', 'CRM110193D', 'CRM110194D', 'CRM110195D', 'CRM110196D', 'CRM110197D', 'CRM110198D', 'CRM110199D', 'CRM110200D', 'CRM110201D', 'CRM110202D', 'CRM110203D', 'CRM110204D', 'CRM110205D', 'CRM110206D', 'CRM110207D', 'CRM110208D', u'CRM210205D', u'CRM210203D',\n",
    " u'CRM210185D', u'CRM210193D', u'CRM210201D', u'CRM210199D',\n",
    " u'CRM210207D', u'CRM210189D', u'CRM210190D', u'CRM210186D',\n",
    " u'CRM210196D', u'CRM210194D', u'CRM210182D', u'CRM210188D',\n",
    " u'CRM210204D', u'CRM210202D', u'CRM210192D', u'CRM210184D',\n",
    " u'CRM210200D', u'CRM210208D', u'CRM210198D', u'CRM210206D',\n",
    " u'CRM210187D', u'CRM210191D',\n",
    " u'CRM210181D', u'CRM210197D',\n",
    " u'CRM210183D', u'CRM210195D']]\n",
    "ny_df1_nyc = ny_df_nyc.loc[['Areaname','CRM110181D', 'CRM110182D', 'CRM110183D', 'CRM110184D', 'CRM110185D', 'CRM110186D', 'CRM110187D', 'CRM110188D', 'CRM110189D','CRM110190D', 'CRM110191D', 'CRM110192D', 'CRM110193D', 'CRM110194D', 'CRM110195D', 'CRM110196D', 'CRM110197D', 'CRM110198D', 'CRM110199D', 'CRM110200D', 'CRM110201D', 'CRM110202D', 'CRM110203D', 'CRM110204D', 'CRM110205D', 'CRM110206D', 'CRM110207D', 'CRM110208D', u'CRM210205D', u'CRM210203D',\n",
    " u'CRM210185D', u'CRM210193D', u'CRM210201D', u'CRM210199D',\n",
    " u'CRM210207D', u'CRM210189D', u'CRM210190D', u'CRM210186D',\n",
    " u'CRM210196D', u'CRM210194D', u'CRM210182D', u'CRM210188D',\n",
    " u'CRM210204D', u'CRM210202D', u'CRM210192D', u'CRM210184D',\n",
    " u'CRM210200D', u'CRM210208D', u'CRM210198D', u'CRM210206D',\n",
    " u'CRM210187D', u'CRM210191D',\n",
    " u'CRM210181D', u'CRM210197D',\n",
    " u'CRM210183D', u'CRM210195D']]"
   ]
  },
  {
   "cell_type": "code",
   "execution_count": 50,
   "metadata": {
    "collapsed": false
   },
   "outputs": [
    {
     "data": {
      "text/plain": [
       "Areaname    Kings, NY\n",
       "Areaname    Kings, NY\n",
       "Areaname    Kings, NY\n",
       "Areaname    Kings, NY\n",
       "Areaname    Kings, NY\n",
       "Name: 1886, dtype: object"
      ]
     },
     "execution_count": 50,
     "metadata": {},
     "output_type": "execute_result"
    }
   ],
   "source": [
    "ny_df1_nyc.head()"
   ]
  },
  {
   "cell_type": "code",
   "execution_count": 56,
   "metadata": {
    "collapsed": false
   },
   "outputs": [],
   "source": [
    "ny_df1.to_csv(\"ny_df1.csv\")"
   ]
  },
  {
   "cell_type": "code",
   "execution_count": 52,
   "metadata": {
    "collapsed": false
   },
   "outputs": [],
   "source": [
    "ny_df1_nyc.to_csv('ny_df1_nyc.csv')"
   ]
  },
  {
   "cell_type": "code",
   "execution_count": null,
   "metadata": {
    "collapsed": true
   },
   "outputs": [],
   "source": [
    "#for x in ny_df.index:\n",
    "    if x == str.contains('')\n",
    "#str.contains('RED', na='False') # checks for a substring"
   ]
  },
  {
   "cell_type": "code",
   "execution_count": null,
   "metadata": {
    "collapsed": true
   },
   "outputs": [],
   "source": []
  },
  {
   "cell_type": "markdown",
   "metadata": {},
   "source": [
    "## Code below are part of previos efforts"
   ]
  },
  {
   "cell_type": "code",
   "execution_count": null,
   "metadata": {
    "collapsed": false
   },
   "outputs": [],
   "source": [
    "#data1.drop(['Areaname'], axis=1)"
   ]
  },
  {
   "cell_type": "code",
   "execution_count": null,
   "metadata": {
    "collapsed": true
   },
   "outputs": [],
   "source": [
    "#data2 = pd.concat([CRM1_1, data1], axis=1)"
   ]
  },
  {
   "cell_type": "code",
   "execution_count": null,
   "metadata": {
    "collapsed": false
   },
   "outputs": [],
   "source": [
    "data2.head()"
   ]
  },
  {
   "cell_type": "code",
   "execution_count": null,
   "metadata": {
    "collapsed": false
   },
   "outputs": [],
   "source": [
    "data2.columns"
   ]
  },
  {
   "cell_type": "code",
   "execution_count": null,
   "metadata": {
    "collapsed": false
   },
   "outputs": [],
   "source": [
    "data2.columns.str.strip()"
   ]
  },
  {
   "cell_type": "code",
   "execution_count": null,
   "metadata": {
    "collapsed": false
   },
   "outputs": [],
   "source": [
    "data2.Areaname.str.split(',')"
   ]
  },
  {
   "cell_type": "code",
   "execution_count": null,
   "metadata": {
    "collapsed": true
   },
   "outputs": [],
   "source": []
  },
  {
   "cell_type": "code",
   "execution_count": null,
   "metadata": {
    "collapsed": true
   },
   "outputs": [],
   "source": []
  },
  {
   "cell_type": "code",
   "execution_count": null,
   "metadata": {
    "collapsed": true
   },
   "outputs": [],
   "source": []
  },
  {
   "cell_type": "code",
   "execution_count": null,
   "metadata": {
    "collapsed": true
   },
   "outputs": [],
   "source": []
  },
  {
   "cell_type": "code",
   "execution_count": null,
   "metadata": {
    "collapsed": true
   },
   "outputs": [],
   "source": []
  },
  {
   "cell_type": "code",
   "execution_count": null,
   "metadata": {
    "collapsed": false
   },
   "outputs": [],
   "source": [
    "bk = data[data.Areaname == 'Kings, NY']"
   ]
  },
  {
   "cell_type": "code",
   "execution_count": null,
   "metadata": {
    "collapsed": true
   },
   "outputs": [],
   "source": []
  },
  {
   "cell_type": "code",
   "execution_count": null,
   "metadata": {
    "collapsed": true
   },
   "outputs": [],
   "source": []
  },
  {
   "cell_type": "code",
   "execution_count": null,
   "metadata": {
    "collapsed": true
   },
   "outputs": [],
   "source": []
  },
  {
   "cell_type": "code",
   "execution_count": null,
   "metadata": {
    "collapsed": true
   },
   "outputs": [],
   "source": [
    "import pandas as pd\n",
    "loc = data[[data['Areaname'].str.split(',', expand=True)]]\n",
    "data1 = pd.concat([loc, data])"
   ]
  },
  {
   "cell_type": "code",
   "execution_count": null,
   "metadata": {
    "collapsed": true
   },
   "outputs": [],
   "source": []
  },
  {
   "cell_type": "code",
   "execution_count": null,
   "metadata": {
    "collapsed": true
   },
   "outputs": [],
   "source": []
  },
  {
   "cell_type": "code",
   "execution_count": null,
   "metadata": {
    "collapsed": true
   },
   "outputs": [],
   "source": []
  },
  {
   "cell_type": "code",
   "execution_count": null,
   "metadata": {
    "collapsed": true
   },
   "outputs": [],
   "source": []
  },
  {
   "cell_type": "code",
   "execution_count": null,
   "metadata": {
    "collapsed": true
   },
   "outputs": [],
   "source": []
  },
  {
   "cell_type": "code",
   "execution_count": null,
   "metadata": {
    "collapsed": false
   },
   "outputs": [],
   "source": [
    "#list of columns that i want\n",
    "want_col =['Areaname']\n",
    "for item in col:\n",
    "    if 'D' == item[-1]:\n",
    "        want_col.append(item)"
   ]
  },
  {
   "cell_type": "code",
   "execution_count": null,
   "metadata": {
    "collapsed": false
   },
   "outputs": [],
   "source": [
    "want_col"
   ]
  },
  {
   "cell_type": "code",
   "execution_count": null,
   "metadata": {
    "collapsed": true
   },
   "outputs": [],
   "source": [
    "#Created datframe that I want all data in\n",
    "CRM1 = CRM2_1[want_col]"
   ]
  },
  {
   "cell_type": "code",
   "execution_count": null,
   "metadata": {
    "collapsed": false
   },
   "outputs": [],
   "source": [
    "CRM1.isnull().sum()"
   ]
  },
  {
   "cell_type": "code",
   "execution_count": null,
   "metadata": {
    "collapsed": true
   },
   "outputs": [],
   "source": [
    "cols = list(CRM2_2.columns)\n",
    "#list of columns that i want\n",
    "want_cols =['Areaname']\n",
    "for item in cols:\n",
    "    if 'D' == item[-1]:\n",
    "        want_cols.append(item)"
   ]
  },
  {
   "cell_type": "code",
   "execution_count": null,
   "metadata": {
    "collapsed": true
   },
   "outputs": [],
   "source": [
    "CRM1_1 = CRM2_2[want_cols]"
   ]
  },
  {
   "cell_type": "code",
   "execution_count": null,
   "metadata": {
    "collapsed": false
   },
   "outputs": [],
   "source": [
    "CRM1_1.isnull().sum()"
   ]
  },
  {
   "cell_type": "code",
   "execution_count": null,
   "metadata": {
    "collapsed": false
   },
   "outputs": [],
   "source": [
    "fin_df = pd.concat([CRM1_1, CRM1], axis=1)"
   ]
  },
  {
   "cell_type": "code",
   "execution_count": null,
   "metadata": {
    "collapsed": false
   },
   "outputs": [],
   "source": [
    "fin_df.isnull().sum()"
   ]
  },
  {
   "cell_type": "code",
   "execution_count": null,
   "metadata": {
    "collapsed": true
   },
   "outputs": [],
   "source": []
  },
  {
   "cell_type": "code",
   "execution_count": null,
   "metadata": {
    "collapsed": true
   },
   "outputs": [],
   "source": []
  },
  {
   "cell_type": "code",
   "execution_count": null,
   "metadata": {
    "collapsed": true
   },
   "outputs": [],
   "source": []
  },
  {
   "cell_type": "code",
   "execution_count": null,
   "metadata": {
    "collapsed": true
   },
   "outputs": [],
   "source": []
  },
  {
   "cell_type": "code",
   "execution_count": null,
   "metadata": {
    "collapsed": true
   },
   "outputs": [],
   "source": []
  },
  {
   "cell_type": "code",
   "execution_count": null,
   "metadata": {
    "collapsed": false
   },
   "outputs": [],
   "source": [
    "list(CRM1.columns)"
   ]
  },
  {
   "cell_type": "code",
   "execution_count": null,
   "metadata": {
    "collapsed": true
   },
   "outputs": [],
   "source": [
    "#Created fucntion to do the same for every sheet\n",
    "def sort_col(sheet):\n",
    "    col = list(sheet.columns)\n",
    "    want_col =['Areaname']\n",
    "    for item in col:\n",
    "        if 'D' == item[-1]:\n",
    "            want_col.append(item)\n",
    "            \n",
    "    return sheet[want_col]\n"
   ]
  },
  {
   "cell_type": "code",
   "execution_count": null,
   "metadata": {
    "collapsed": false
   },
   "outputs": [],
   "source": [
    "df.keys()"
   ]
  },
  {
   "cell_type": "code",
   "execution_count": null,
   "metadata": {
    "collapsed": false
   },
   "outputs": [],
   "source": [
    "# Running my function on all the sheets\n",
    "CRM2_2 = sort_col(df['Sheet2'])\n",
    "CRM2_3 = sort_col(df['Sheet3'])\n",
    "CRM2_4 = sort_col(df['Sheet4'])\n",
    "CRM2_5 = sort_col(df['Sheet5'])\n",
    "CRM2_6 = sort_col(df['Sheet6'])\n",
    "CRM2_7 = sort_col(df['Sheet7'])\n",
    "CRM2_8 = sort_col(df['Sheet8'])\n",
    "CRM2_9 = sort_col(df['Sheet9'])\n",
    "CRM2_10 = sort_col(df['Sheet10'])\n",
    "CRM2_fin =  pd.concat([CRM2_2, CRM2_3, CRM2_4, CRM2_5, CRM2_6, CRM2_7, CRM2_8, CRM2_9, CRM2_10], axis=1, join_axes=[CRM2_2.Areaname])"
   ]
  },
  {
   "cell_type": "code",
   "execution_count": null,
   "metadata": {
    "collapsed": false
   },
   "outputs": [],
   "source": [
    "#making sure my function worked \n",
    "CRM2_fin.shape"
   ]
  },
  {
   "cell_type": "code",
   "execution_count": null,
   "metadata": {
    "collapsed": false
   },
   "outputs": [],
   "source": [
    "CRM2_fin.head()"
   ]
  },
  {
   "cell_type": "code",
   "execution_count": null,
   "metadata": {
    "collapsed": false
   },
   "outputs": [],
   "source": [
    "# reading in the other crime files, and repeating the same steps\n",
    "df_crm1 = pd.read_excel('CRM01.xls', sheetname=None)\n",
    "df_crm3 = pd.read_excel('CRM03.xls', sheetname=None)\n",
    "crm1_keys = list(df_crm1.keys())\n",
    "crm3_keys = list(df_crm3.keys())"
   ]
  },
  {
   "cell_type": "code",
   "execution_count": null,
   "metadata": {
    "collapsed": false
   },
   "outputs": [],
   "source": [
    "print (crm3_keys)\n",
    "print (crm1_keys)"
   ]
  },
  {
   "cell_type": "code",
   "execution_count": null,
   "metadata": {
    "collapsed": true
   },
   "outputs": [],
   "source": [
    "#for excel sheet 1\n",
    "CRM1_1 = sort_col(df_crm1['Sheet1'])\n",
    "CRM1_2 = sort_col(df_crm1['Sheet2'])\n",
    "CRM1_3 = sort_col(df_crm1['Sheet3'])\n",
    "CRM1_4 = sort_col(df_crm1['Sheet4'])\n",
    "CRM1_5 = sort_col(df_crm1['Sheet5'])\n",
    "CRM1_6 = sort_col(df_crm1['Sheet6'])\n",
    "CRM1_7 = sort_col(df_crm1['Sheet7'])\n",
    "CRM1_8 = sort_col(df_crm1['Sheet8'])\n",
    "CRM1_9 = sort_col(df_crm1['Sheet9'])\n",
    "CRM1_10 = sort_col(df_crm1['Sheet10'])\n",
    "CRM1_fin =  pd.concat([CRM1_1, CRM1_2,CRM1_3, CRM1_4, CRM1_5, CRM1_6, CRM1_7, CRM1_8, CRM1_9, CRM1_10])\n",
    "#excel sheet 3\n",
    "CRM3_1 = sort_col(df_crm3['Sheet1'])\n",
    "CRM3_2 = sort_col(df_crm3['Sheet2'])\n",
    "CRM3_3 = sort_col(df_crm3['Sheet3'])\n",
    "CRM3_4 = sort_col(df_crm3['Sheet4'])\n",
    "CRM3_fin =  pd.concat([CRM3_1, CRM3_2,CRM3_3, CRM3_4])"
   ]
  },
  {
   "cell_type": "code",
   "execution_count": null,
   "metadata": {
    "collapsed": false
   },
   "outputs": [],
   "source": [
    "#Combining all the crime datasetes\n",
    "data =  pd.concat([CRM1_fin, CRM2_fin, CRM3_fin])"
   ]
  },
  {
   "cell_type": "code",
   "execution_count": null,
   "metadata": {
    "collapsed": false
   },
   "outputs": [],
   "source": [
    "data.shape"
   ]
  },
  {
   "cell_type": "code",
   "execution_count": null,
   "metadata": {
    "collapsed": false
   },
   "outputs": [],
   "source": [
    "data.head()"
   ]
  },
  {
   "cell_type": "code",
   "execution_count": null,
   "metadata": {
    "collapsed": false
   },
   "outputs": [],
   "source": [
    "data1 = data[[\"Areaname\",'CRM110181D', 'CRM110182D', 'CRM110183D', 'CRM110184D', 'CRM110185D', 'CRM110186D', 'CRM110187D', 'CRM110188D', 'CRM110189D','CRM110190D', 'CRM110191D', 'CRM110192D', 'CRM110193D', 'CRM110194D', 'CRM110195D', 'CRM110196D', 'CRM110197D', 'CRM110198D', 'CRM110199D', 'CRM110200D', 'CRM110201D', 'CRM110202D', 'CRM110203D', 'CRM110204D', 'CRM110205D', 'CRM110206D', 'CRM110207D', 'CRM110208D', u'CRM210205D', u'CRM210203D',\n",
    " u'CRM210185D', u'CRM210193D', u'CRM210201D', u'CRM210199D',\n",
    " u'CRM210207D', u'CRM210189D', u'CRM210190D', u'CRM210186D',\n",
    " u'CRM210196D', u'CRM210194D', u'CRM210182D', u'CRM210188D',\n",
    " u'CRM210204D', u'CRM210202D', u'CRM210192D', u'CRM210184D',\n",
    " u'CRM210200D', u'CRM210208D', u'CRM210198D', u'CRM210206D',\n",
    " u'CRM210187D', u'CRM210191D',\n",
    " u'CRM210181D', u'CRM210197D',\n",
    " u'CRM210183D', u'CRM210195D']]"
   ]
  },
  {
   "cell_type": "code",
   "execution_count": null,
   "metadata": {
    "collapsed": false
   },
   "outputs": [],
   "source": [
    "# checking to make sure dataframe was \n",
    "data1.shape"
   ]
  },
  {
   "cell_type": "code",
   "execution_count": null,
   "metadata": {
    "collapsed": false
   },
   "outputs": [],
   "source": [
    "data.shape"
   ]
  },
  {
   "cell_type": "code",
   "execution_count": null,
   "metadata": {
    "collapsed": false
   },
   "outputs": [],
   "source": [
    "data1.to_csv('all_crime_cleaned3.csv')"
   ]
  },
  {
   "cell_type": "code",
   "execution_count": null,
   "metadata": {
    "collapsed": false
   },
   "outputs": [],
   "source": [
    "data1.head()"
   ]
  },
  {
   "cell_type": "code",
   "execution_count": null,
   "metadata": {
    "collapsed": false
   },
   "outputs": [],
   "source": [
    "c = data1[data1.notnull()]"
   ]
  },
  {
   "cell_type": "code",
   "execution_count": null,
   "metadata": {
    "collapsed": false
   },
   "outputs": [],
   "source": [
    "c.shape\n"
   ]
  },
  {
   "cell_type": "code",
   "execution_count": null,
   "metadata": {
    "collapsed": false
   },
   "outputs": [],
   "source": [
    "bk = c[c.Areaname == 'Kings, NY']"
   ]
  },
  {
   "cell_type": "code",
   "execution_count": null,
   "metadata": {
    "collapsed": false
   },
   "outputs": [],
   "source": [
    "bk"
   ]
  },
  {
   "cell_type": "code",
   "execution_count": null,
   "metadata": {
    "collapsed": true
   },
   "outputs": [],
   "source": []
  }
 ],
 "metadata": {
  "anaconda-cloud": {},
  "kernelspec": {
   "display_name": "Python [conda root]",
   "language": "python",
   "name": "conda-root-py"
  },
  "language_info": {
   "codemirror_mode": {
    "name": "ipython",
    "version": 2
   },
   "file_extension": ".py",
   "mimetype": "text/x-python",
   "name": "python",
   "nbconvert_exporter": "python",
   "pygments_lexer": "ipython2",
   "version": "2.7.12"
  }
 },
 "nbformat": 4,
 "nbformat_minor": 1
}
