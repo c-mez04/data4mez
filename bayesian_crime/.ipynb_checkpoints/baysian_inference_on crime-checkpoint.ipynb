{
 "cells": [
  {
   "cell_type": "code",
   "execution_count": null,
   "metadata": {
    "collapsed": true
   },
   "outputs": [],
   "source": [
    "import pandas as pd\n",
    "import pymc3 as pm\n",
    "import numpy as np\n",
    "import matplotlib.pyplot as plt\n",
    "%matplotlib inline\n",
    "plt.style.use('fivethirtyeight')"
   ]
  },
  {
   "cell_type": "code",
   "execution_count": null,
   "metadata": {
    "collapsed": false
   },
   "outputs": [],
   "source": [
    "nys = pd.read_csv('ny_crime_hist2.csv')\n",
    "nyc = pd.read_csv('nyc_crime_hist2')"
   ]
  },
  {
   "cell_type": "code",
   "execution_count": null,
   "metadata": {
    "collapsed": false
   },
   "outputs": [],
   "source": [
    "nyc.head()"
   ]
  },
  {
   "cell_type": "code",
   "execution_count": null,
   "metadata": {
    "collapsed": false
   },
   "outputs": [],
   "source": [
    "nyc_81 = nyc[nyc.Year < 1990].city_crime_total.values\n",
    "nyc_10 = nyc[(nyc.Year >= 1990)].city_crime_total.values"
   ]
  },
  {
   "cell_type": "code",
   "execution_count": null,
   "metadata": {
    "collapsed": false
   },
   "outputs": [],
   "source": [
    "np.std(nyc_10)"
   ]
  },
  {
   "cell_type": "code",
   "execution_count": null,
   "metadata": {
    "collapsed": false
   },
   "outputs": [],
   "source": [
    "print list(nyc_81)\n",
    "print list(nyc_10)"
   ]
  },
  {
   "cell_type": "code",
   "execution_count": null,
   "metadata": {
    "collapsed": false
   },
   "outputs": [],
   "source": [
    "'''\n",
    "#change the mean to represent time frame\n",
    "# setting up priors\n",
    "mean_prior_mean = nyc.city_crime_total.mean()\n",
    "mean_prior_std = nyc.city_crime_total.std()\n",
    "'''"
   ]
  },
  {
   "cell_type": "code",
   "execution_count": null,
   "metadata": {
    "collapsed": true
   },
   "outputs": [],
   "source": [
    "mean_prior_mean_before90 = nyc_81.mean()\n",
    "mean_prior_std_before90 = nyc_81.std()"
   ]
  },
  {
   "cell_type": "code",
   "execution_count": null,
   "metadata": {
    "collapsed": false
   },
   "outputs": [],
   "source": [
    "mean_prior_mean_after90 = nyc_10.mean()\n",
    "mean_prior_std_after90 = nyc_10.std()"
   ]
  },
  {
   "cell_type": "code",
   "execution_count": null,
   "metadata": {
    "collapsed": false
   },
   "outputs": [],
   "source": [
    "#Priors on means\n",
    "with pm.Model() as model:\n",
    "    before90_mean = pm.Normal('before90_mean', mean_prior_mean_before90, sd=mean_prior_std_before90)\n",
    "    after90_mean = pm.Normal('after90_mean', mean_prior_mean_after90, sd=mean_prior_std_after90)"
   ]
  },
  {
   "cell_type": "code",
   "execution_count": null,
   "metadata": {
    "collapsed": true
   },
   "outputs": [],
   "source": [
    "#change std prior"
   ]
  },
  {
   "cell_type": "code",
   "execution_count": null,
   "metadata": {
    "collapsed": true
   },
   "outputs": [],
   "source": [
    "#Priors on std\n",
    "std_prior_lower = 0.01\n",
    "std_prior_upper_before90 = (np.std(nyc_81)) * 2\n",
    "std_prior_upper_after90 = (np.std(nyc_10)) * 2\n",
    "with model:\n",
    "    before90_std = pm.Uniform('before90_std', lower=std_prior_lower, upper=std_prior_upper_before90)\n",
    "    after90_std = pm.Uniform('after90_std', lower=std_prior_lower, upper=std_prior_upper_after90)"
   ]
  },
  {
   "cell_type": "code",
   "execution_count": null,
   "metadata": {
    "collapsed": true
   },
   "outputs": [],
   "source": [
    "with model:\n",
    "    before90 = pm.Normal('Before90', mu=before90_mean, sd=before90_std, observed=nyc_81)\n",
    "    after90 = pm.Normal('After90', mu=after90_mean, sd=after90_std, observed=nyc_10)"
   ]
  },
  {
   "cell_type": "code",
   "execution_count": null,
   "metadata": {
    "collapsed": false
   },
   "outputs": [],
   "source": [
    "import numpy as np\n",
    "with model:\n",
    "\n",
    "    diff_of_means = pm.Deterministic('difference of means', before90_mean - after90_mean)\n",
    "    diff_of_stds = pm.Deterministic('difference of stds', before90_std - after90_std)\n",
    "    effect_size = pm.Deterministic('effect size',\n",
    "                                   diff_of_means / np.sqrt((before90_std**2 + after90_std**2) / 2))"
   ]
  },
  {
   "cell_type": "code",
   "execution_count": null,
   "metadata": {
    "collapsed": false
   },
   "outputs": [],
   "source": [
    "with model:\n",
    "    trace = pm.sample(25000, njobs=-1)"
   ]
  },
  {
   "cell_type": "code",
   "execution_count": null,
   "metadata": {
    "collapsed": false
   },
   "outputs": [],
   "source": [
    "plt.rcParams['figure.figsize'] = (24, 18)\n",
    "pm.plot_posterior(trace[25000:],\n",
    "                 varnames=['before90_mean', 'after90_mean', 'before90_std', 'after90_std'],\n",
    "                  ref_val=0, color='#87ceeb')"
   ]
  },
  {
   "cell_type": "code",
   "execution_count": null,
   "metadata": {
    "collapsed": false,
    "scrolled": false
   },
   "outputs": [],
   "source": [
    "pm.plot_posterior(trace[25000:],\n",
    "                  varnames=['difference of means', 'difference of stds', 'effect size'],\n",
    "                  ref_val=0,\n",
    "                  color='#87ceeb')"
   ]
  },
  {
   "cell_type": "code",
   "execution_count": null,
   "metadata": {
    "collapsed": true
   },
   "outputs": [],
   "source": []
  }
 ],
 "metadata": {
  "anaconda-cloud": {},
  "kernelspec": {
   "display_name": "Python [conda root]",
   "language": "python",
   "name": "conda-root-py"
  },
  "language_info": {
   "codemirror_mode": {
    "name": "ipython",
    "version": 2
   },
   "file_extension": ".py",
   "mimetype": "text/x-python",
   "name": "python",
   "nbconvert_exporter": "python",
   "pygments_lexer": "ipython2",
   "version": "2.7.12"
  }
 },
 "nbformat": 4,
 "nbformat_minor": 1
}
