{
 "cells": [
  {
   "cell_type": "markdown",
   "metadata": {},
   "source": [
    "# Introduction\n",
    "This Lab called us to predict default status. There were two datasets that will be split into seprate tables each contain unique Information. The tables will be put into a database thats created and queried with SQL commands. SQL commands will then by analyzed in Pandas and will be modelled after."
   ]
  },
  {
   "cell_type": "code",
   "execution_count": 1,
   "metadata": {
    "collapsed": false
   },
   "outputs": [
    {
     "name": "stderr",
     "output_type": "stream",
     "text": [
      "/Users/carltonmezetin/anaconda/lib/python2.7/site-packages/sklearn/cross_validation.py:44: DeprecationWarning: This module was deprecated in version 0.18 in favor of the model_selection module into which all the refactored classes and functions are moved. Also note that the interface of the new CV iterators are different from that of this module. This module will be removed in 0.20.\n",
      "  \"This module will be removed in 0.20.\", DeprecationWarning)\n"
     ]
    }
   ],
   "source": [
    "# Importing Libraries to be used for now.\n",
    "import pandas as pd\n",
    "import numpy as np\n",
    "import matplotlib.pyplot as plt\n",
    "%matplotlib inline\n",
    "plt.style.use('ggplot')\n",
    "from sklearn.cross_validation import train_test_split"
   ]
  },
  {
   "cell_type": "code",
   "execution_count": 2,
   "metadata": {
    "collapsed": false
   },
   "outputs": [],
   "source": [
    "#Reading in dataset with pandas\n",
    "credit_file = pd.read_csv('credit_info.csv', index_col='ID')\n",
    "customer_file = pd.read_csv('customer_info.csv', index_col='ID')"
   ]
  },
  {
   "cell_type": "code",
   "execution_count": 3,
   "metadata": {
    "collapsed": false
   },
   "outputs": [],
   "source": [
    "# Separting datasets into 4 tables containing seprate information\n",
    "\n",
    "pay_stat = credit_file[['PAY_STAT_SEP', 'PAY_STAT_AUG', 'PAY_STAT_JUL', 'PAY_STAT_JUN', 'PAY_STAT_MAY', 'PAY_STAT_APR']]\n",
    "bill_hist = credit_file[['BILL_AMT_SEP', 'BILL_AMT_AUG', 'BILL_AMT_JUL','BILL_AMT_JUN','BILL_AMT_MAY','BILL_AMT_APR', 'BILL_PAY_SEP','BILL_PAY_AUG','BILL_PAY_JUL', 'BILL_PAY_JUN', 'BILL_PAY_MAY', 'BILL_PAY_APR',]]\n",
    "cust_dem = customer_file[['SEX', 'EDUCATION', 'MARRIAGE', 'AGE']]\n",
    "pay_hist = customer_file[['LIMIT_BAL', 'default payment next month']]"
   ]
  },
  {
   "cell_type": "code",
   "execution_count": 4,
   "metadata": {
    "collapsed": false
   },
   "outputs": [],
   "source": [
    "# Creating database called 'information'\n",
    "\n",
    "import sqlite3\n",
    "sqlite_db = 'information'\n",
    "conn = sqlite3.connect(sqlite_db)\n",
    "c = conn.cursor()\n",
    "conn.commit()"
   ]
  },
  {
   "cell_type": "code",
   "execution_count": 5,
   "metadata": {
    "collapsed": false
   },
   "outputs": [
    {
     "name": "stderr",
     "output_type": "stream",
     "text": [
      "/Users/carltonmezetin/anaconda/lib/python2.7/site-packages/pandas/core/generic.py:1165: UserWarning: The spaces in these column names will not be changed. In pandas versions < 0.14, spaces were converted to underscores.\n",
      "  chunksize=chunksize, dtype=dtype)\n"
     ]
    }
   ],
   "source": [
    "# Importing pandas dataframes to sql tables in our database to be queried.\n",
    "pay_hist.to_sql(name = 'payment_history', con = conn, if_exists = 'replace', index=True)\n",
    "cust_dem.to_sql(name = 'customer_demographics', con = conn, if_exists = 'replace', index=True)\n",
    "pay_stat.to_sql(name = 'payment_status', con = conn, if_exists = 'replace', index=True)\n",
    "bill_hist.to_sql(name = 'billing_history', con = conn, if_exists = 'replace', index=True)"
   ]
  },
  {
   "cell_type": "code",
   "execution_count": 6,
   "metadata": {
    "collapsed": false
   },
   "outputs": [
    {
     "data": {
      "text/html": [
       "<div>\n",
       "<table border=\"1\" class=\"dataframe\">\n",
       "  <thead>\n",
       "    <tr style=\"text-align: right;\">\n",
       "      <th></th>\n",
       "      <th>ID</th>\n",
       "      <th>BILL_AMT_SEP</th>\n",
       "      <th>BILL_AMT_AUG</th>\n",
       "      <th>BILL_AMT_JUL</th>\n",
       "      <th>BILL_AMT_JUN</th>\n",
       "      <th>BILL_AMT_MAY</th>\n",
       "      <th>BILL_AMT_APR</th>\n",
       "      <th>BILL_PAY_SEP</th>\n",
       "      <th>BILL_PAY_AUG</th>\n",
       "      <th>BILL_PAY_JUL</th>\n",
       "      <th>BILL_PAY_JUN</th>\n",
       "      <th>BILL_PAY_MAY</th>\n",
       "      <th>BILL_PAY_APR</th>\n",
       "    </tr>\n",
       "  </thead>\n",
       "  <tbody>\n",
       "    <tr>\n",
       "      <th>0</th>\n",
       "      <td>1</td>\n",
       "      <td>3913</td>\n",
       "      <td>3102.0</td>\n",
       "      <td>689</td>\n",
       "      <td>0</td>\n",
       "      <td>0</td>\n",
       "      <td>0</td>\n",
       "      <td>0</td>\n",
       "      <td>689</td>\n",
       "      <td>0</td>\n",
       "      <td>0</td>\n",
       "      <td>0</td>\n",
       "      <td>0</td>\n",
       "    </tr>\n",
       "    <tr>\n",
       "      <th>1</th>\n",
       "      <td>2</td>\n",
       "      <td>2682</td>\n",
       "      <td>1725.0</td>\n",
       "      <td>2682</td>\n",
       "      <td>3272</td>\n",
       "      <td>3455</td>\n",
       "      <td>3261</td>\n",
       "      <td>0</td>\n",
       "      <td>1000</td>\n",
       "      <td>1000</td>\n",
       "      <td>1000</td>\n",
       "      <td>0</td>\n",
       "      <td>2000</td>\n",
       "    </tr>\n",
       "    <tr>\n",
       "      <th>2</th>\n",
       "      <td>3</td>\n",
       "      <td>29239</td>\n",
       "      <td>14027.0</td>\n",
       "      <td>13559</td>\n",
       "      <td>14331</td>\n",
       "      <td>14948</td>\n",
       "      <td>15549</td>\n",
       "      <td>1518</td>\n",
       "      <td>1500</td>\n",
       "      <td>1000</td>\n",
       "      <td>1000</td>\n",
       "      <td>1000</td>\n",
       "      <td>5000</td>\n",
       "    </tr>\n",
       "    <tr>\n",
       "      <th>3</th>\n",
       "      <td>4</td>\n",
       "      <td>46990</td>\n",
       "      <td>48233.0</td>\n",
       "      <td>49291</td>\n",
       "      <td>28314</td>\n",
       "      <td>28959</td>\n",
       "      <td>29547</td>\n",
       "      <td>2000</td>\n",
       "      <td>2019</td>\n",
       "      <td>1200</td>\n",
       "      <td>1100</td>\n",
       "      <td>1069</td>\n",
       "      <td>1000</td>\n",
       "    </tr>\n",
       "    <tr>\n",
       "      <th>4</th>\n",
       "      <td>5</td>\n",
       "      <td>8617</td>\n",
       "      <td>5670.0</td>\n",
       "      <td>35835</td>\n",
       "      <td>20940</td>\n",
       "      <td>19146</td>\n",
       "      <td>19131</td>\n",
       "      <td>2000</td>\n",
       "      <td>36681</td>\n",
       "      <td>10000</td>\n",
       "      <td>9000</td>\n",
       "      <td>689</td>\n",
       "      <td>679</td>\n",
       "    </tr>\n",
       "  </tbody>\n",
       "</table>\n",
       "</div>"
      ],
      "text/plain": [
       "   ID  BILL_AMT_SEP  BILL_AMT_AUG  BILL_AMT_JUL  BILL_AMT_JUN  BILL_AMT_MAY  \\\n",
       "0   1          3913        3102.0           689             0             0   \n",
       "1   2          2682        1725.0          2682          3272          3455   \n",
       "2   3         29239       14027.0         13559         14331         14948   \n",
       "3   4         46990       48233.0         49291         28314         28959   \n",
       "4   5          8617        5670.0         35835         20940         19146   \n",
       "\n",
       "   BILL_AMT_APR  BILL_PAY_SEP  BILL_PAY_AUG  BILL_PAY_JUL  BILL_PAY_JUN  \\\n",
       "0             0             0           689             0             0   \n",
       "1          3261             0          1000          1000          1000   \n",
       "2         15549          1518          1500          1000          1000   \n",
       "3         29547          2000          2019          1200          1100   \n",
       "4         19131          2000         36681         10000          9000   \n",
       "\n",
       "   BILL_PAY_MAY  BILL_PAY_APR  \n",
       "0             0             0  \n",
       "1             0          2000  \n",
       "2          1000          5000  \n",
       "3          1069          1000  \n",
       "4           689           679  "
      ]
     },
     "execution_count": 6,
     "metadata": {},
     "output_type": "execute_result"
    }
   ],
   "source": [
    "# Importing Library to allow us to run sql commands\n",
    "from pandas.io import sql\n",
    "# Looking at sql table billing history\n",
    "sql.read_sql('select * from billing_history', conn).head()"
   ]
  },
  {
   "cell_type": "code",
   "execution_count": 7,
   "metadata": {
    "collapsed": false
   },
   "outputs": [
    {
     "data": {
      "text/html": [
       "<div>\n",
       "<table border=\"1\" class=\"dataframe\">\n",
       "  <thead>\n",
       "    <tr style=\"text-align: right;\">\n",
       "      <th></th>\n",
       "      <th>ID</th>\n",
       "      <th>LIMIT_BAL</th>\n",
       "      <th>default payment next month</th>\n",
       "    </tr>\n",
       "  </thead>\n",
       "  <tbody>\n",
       "    <tr>\n",
       "      <th>0</th>\n",
       "      <td>1</td>\n",
       "      <td>20000</td>\n",
       "      <td>1</td>\n",
       "    </tr>\n",
       "    <tr>\n",
       "      <th>1</th>\n",
       "      <td>2</td>\n",
       "      <td>120000</td>\n",
       "      <td>1</td>\n",
       "    </tr>\n",
       "    <tr>\n",
       "      <th>2</th>\n",
       "      <td>3</td>\n",
       "      <td>90000</td>\n",
       "      <td>0</td>\n",
       "    </tr>\n",
       "    <tr>\n",
       "      <th>3</th>\n",
       "      <td>4</td>\n",
       "      <td>50000</td>\n",
       "      <td>0</td>\n",
       "    </tr>\n",
       "    <tr>\n",
       "      <th>4</th>\n",
       "      <td>5</td>\n",
       "      <td>50000</td>\n",
       "      <td>0</td>\n",
       "    </tr>\n",
       "  </tbody>\n",
       "</table>\n",
       "</div>"
      ],
      "text/plain": [
       "   ID  LIMIT_BAL  default payment next month\n",
       "0   1      20000                           1\n",
       "1   2     120000                           1\n",
       "2   3      90000                           0\n",
       "3   4      50000                           0\n",
       "4   5      50000                           0"
      ]
     },
     "execution_count": 7,
     "metadata": {},
     "output_type": "execute_result"
    }
   ],
   "source": [
    "# Looking at sql table payment history\n",
    "sql.read_sql('select * from payment_history', conn).head()"
   ]
  },
  {
   "cell_type": "code",
   "execution_count": 8,
   "metadata": {
    "collapsed": false
   },
   "outputs": [
    {
     "data": {
      "text/html": [
       "<div>\n",
       "<table border=\"1\" class=\"dataframe\">\n",
       "  <thead>\n",
       "    <tr style=\"text-align: right;\">\n",
       "      <th></th>\n",
       "      <th>ID</th>\n",
       "      <th>PAY_STAT_SEP</th>\n",
       "      <th>PAY_STAT_AUG</th>\n",
       "      <th>PAY_STAT_JUL</th>\n",
       "      <th>PAY_STAT_JUN</th>\n",
       "      <th>PAY_STAT_MAY</th>\n",
       "      <th>PAY_STAT_APR</th>\n",
       "    </tr>\n",
       "  </thead>\n",
       "  <tbody>\n",
       "    <tr>\n",
       "      <th>0</th>\n",
       "      <td>1</td>\n",
       "      <td>2</td>\n",
       "      <td>2</td>\n",
       "      <td>-1</td>\n",
       "      <td>-1</td>\n",
       "      <td>-2</td>\n",
       "      <td>-2</td>\n",
       "    </tr>\n",
       "    <tr>\n",
       "      <th>1</th>\n",
       "      <td>2</td>\n",
       "      <td>-1</td>\n",
       "      <td>2</td>\n",
       "      <td>0</td>\n",
       "      <td>0</td>\n",
       "      <td>0</td>\n",
       "      <td>2</td>\n",
       "    </tr>\n",
       "    <tr>\n",
       "      <th>2</th>\n",
       "      <td>3</td>\n",
       "      <td>0</td>\n",
       "      <td>0</td>\n",
       "      <td>0</td>\n",
       "      <td>0</td>\n",
       "      <td>0</td>\n",
       "      <td>0</td>\n",
       "    </tr>\n",
       "    <tr>\n",
       "      <th>3</th>\n",
       "      <td>4</td>\n",
       "      <td>0</td>\n",
       "      <td>0</td>\n",
       "      <td>0</td>\n",
       "      <td>0</td>\n",
       "      <td>0</td>\n",
       "      <td>0</td>\n",
       "    </tr>\n",
       "    <tr>\n",
       "      <th>4</th>\n",
       "      <td>5</td>\n",
       "      <td>-1</td>\n",
       "      <td>0</td>\n",
       "      <td>-1</td>\n",
       "      <td>0</td>\n",
       "      <td>0</td>\n",
       "      <td>0</td>\n",
       "    </tr>\n",
       "  </tbody>\n",
       "</table>\n",
       "</div>"
      ],
      "text/plain": [
       "   ID  PAY_STAT_SEP  PAY_STAT_AUG  PAY_STAT_JUL  PAY_STAT_JUN  PAY_STAT_MAY  \\\n",
       "0   1             2             2            -1            -1            -2   \n",
       "1   2            -1             2             0             0             0   \n",
       "2   3             0             0             0             0             0   \n",
       "3   4             0             0             0             0             0   \n",
       "4   5            -1             0            -1             0             0   \n",
       "\n",
       "   PAY_STAT_APR  \n",
       "0            -2  \n",
       "1             2  \n",
       "2             0  \n",
       "3             0  \n",
       "4             0  "
      ]
     },
     "execution_count": 8,
     "metadata": {},
     "output_type": "execute_result"
    }
   ],
   "source": [
    "# Looking at sql table payment status\n",
    "sql.read_sql('select * from payment_status', conn).head()"
   ]
  },
  {
   "cell_type": "code",
   "execution_count": 9,
   "metadata": {
    "collapsed": true
   },
   "outputs": [],
   "source": [
    "#Reading tables into Pandas for EDA \n",
    "payment_hist = sql.read_sql('select * from payment_history', conn)\n",
    "billing_hist = sql.read_sql(\"select * from billing_history\", conn)\n",
    "payment_stat = sql.read_sql('select * from payment_status', conn)\n",
    "customer_dem = sql.read_sql('select * from customer_demographics', conn)"
   ]
  },
  {
   "cell_type": "code",
   "execution_count": null,
   "metadata": {
    "collapsed": false
   },
   "outputs": [],
   "source": []
  },
  {
   "cell_type": "markdown",
   "metadata": {},
   "source": [
    "## Querying and EDA\n"
   ]
  },
  {
   "cell_type": "code",
   "execution_count": 10,
   "metadata": {
    "collapsed": false
   },
   "outputs": [
    {
     "name": "stdout",
     "output_type": "stream",
     "text": [
      "Billing Amount averages by Month\n",
      "April 102251.514742\n",
      "May 130875.444592\n",
      "June 116883.319388\n",
      "July 217013.380278\n",
      "August 214021.679772\n",
      "September130852.680184\n"
     ]
    },
    {
     "name": "stderr",
     "output_type": "stream",
     "text": [
      "/Users/carltonmezetin/anaconda/lib/python2.7/site-packages/numpy/lib/function_base.py:3834: RuntimeWarning: Invalid value encountered in percentile\n",
      "  RuntimeWarning)\n"
     ]
    }
   ],
   "source": [
    "# Lets look at the Mean billing amounts per month for accounts receiveables.\n",
    "billamt=sql.read_sql(\"select BILL_AMT_SEP, BILL_AMT_AUG, BILL_AMT_JUL, BILL_AMT_JUN, BILL_AMT_MAY, BILL_AMT_APR  from billing_history\", conn).describe()\n",
    "SEP=billamt.BILL_AMT_SEP.mean()\n",
    "AUG=billamt.BILL_AMT_AUG.mean()\n",
    "JUN=billamt.BILL_AMT_JUN.mean()\n",
    "JUL=billamt.BILL_AMT_JUL.mean()\n",
    "MAY=billamt.BILL_AMT_MAY.mean()\n",
    "APR=billamt.BILL_AMT_APR.mean()\n",
    "# Printing the average Billing amounts\n",
    "print 'Billing Amount averages by Month'\n",
    "print 'April ' + str (APR)\n",
    "print 'May ' + str (MAY)\n",
    "print 'June ' + str(JUN)\n",
    "print 'July ' + str(JUL)\n",
    "print 'August ' + str(AUG)\n",
    "print 'September' + str(SEP)"
   ]
  },
  {
   "cell_type": "code",
   "execution_count": 11,
   "metadata": {
    "collapsed": false
   },
   "outputs": [
    {
     "name": "stdout",
     "output_type": "stream",
     "text": [
      "Median Customer Age AGE    34.0\n",
      "dtype: float64\n",
      "Most represetned Age    AGE\n",
      "0   29\n"
     ]
    }
   ],
   "source": [
    "# Median Age of customer\n",
    "med_age = sql.read_sql('select AGE from customer_demographics', conn).median()\n",
    "print ('Median Customer Age ' + str(med_age))\n",
    "mod_age = sql.read_sql('select AGE from customer_demographics', conn).mode()\n",
    "print ('Most represetned Age ' + str(mod_age))"
   ]
  },
  {
   "cell_type": "code",
   "execution_count": 12,
   "metadata": {
    "collapsed": false
   },
   "outputs": [
    {
     "name": "stderr",
     "output_type": "stream",
     "text": [
      "/Users/carltonmezetin/anaconda/lib/python2.7/site-packages/ipykernel/__main__.py:4: FutureWarning: pd.rolling_mean is deprecated for DataFrame and will be removed in a future version, replace with \n",
      "\tDataFrame.rolling(window=2,center=False).mean()\n"
     ]
    },
    {
     "data": {
      "text/html": [
       "<div>\n",
       "<table border=\"1\" class=\"dataframe\">\n",
       "  <thead>\n",
       "    <tr style=\"text-align: right;\">\n",
       "      <th></th>\n",
       "      <th>AVG</th>\n",
       "      <th>Month</th>\n",
       "    </tr>\n",
       "  </thead>\n",
       "  <tbody>\n",
       "    <tr>\n",
       "      <th>0</th>\n",
       "      <td>NaN</td>\n",
       "      <td>APR</td>\n",
       "    </tr>\n",
       "    <tr>\n",
       "      <th>1</th>\n",
       "      <td>116563.479667</td>\n",
       "      <td>MAY</td>\n",
       "    </tr>\n",
       "    <tr>\n",
       "      <th>2</th>\n",
       "      <td>123879.381990</td>\n",
       "      <td>JUN</td>\n",
       "    </tr>\n",
       "    <tr>\n",
       "      <th>3</th>\n",
       "      <td>166948.349833</td>\n",
       "      <td>JUL</td>\n",
       "    </tr>\n",
       "    <tr>\n",
       "      <th>4</th>\n",
       "      <td>215517.530025</td>\n",
       "      <td>AUG</td>\n",
       "    </tr>\n",
       "    <tr>\n",
       "      <th>5</th>\n",
       "      <td>172437.179978</td>\n",
       "      <td>SEP</td>\n",
       "    </tr>\n",
       "  </tbody>\n",
       "</table>\n",
       "</div>"
      ],
      "text/plain": [
       "             AVG Month\n",
       "0            NaN   APR\n",
       "1  116563.479667   MAY\n",
       "2  123879.381990   JUN\n",
       "3  166948.349833   JUL\n",
       "4  215517.530025   AUG\n",
       "5  172437.179978   SEP"
      ]
     },
     "execution_count": 12,
     "metadata": {},
     "output_type": "execute_result"
    }
   ],
   "source": [
    "# The avegae bill amount per month\n",
    "# Moving Average\n",
    "data = pd.DataFrame({'Month':['APR', 'MAY', 'JUN', 'JUL', 'AUG', 'SEP'], 'AVG':[APR, MAY, JUN, JUL, AUG, SEP]})\n",
    "pd.rolling_mean(data, 2)"
   ]
  },
  {
   "cell_type": "code",
   "execution_count": 13,
   "metadata": {
    "collapsed": false
   },
   "outputs": [
    {
     "name": "stderr",
     "output_type": "stream",
     "text": [
      "/Users/carltonmezetin/anaconda/lib/python2.7/site-packages/ipykernel/__main__.py:2: FutureWarning: pd.rolling_mean is deprecated for DataFrame and will be removed in a future version, replace with \n",
      "\tDataFrame.rolling(window=2,center=False).mean()\n",
      "  from ipykernel import kernelapp as app\n"
     ]
    },
    {
     "data": {
      "text/plain": [
       "<matplotlib.axes._subplots.AxesSubplot at 0x11022a150>"
      ]
     },
     "execution_count": 13,
     "metadata": {},
     "output_type": "execute_result"
    },
    {
     "data": {
      "image/png": "[encoded data removed]",
      "text/plain": [
       "<matplotlib.figure.Figure at 0x10f8b8510>"
      ]
     },
     "metadata": {},
     "output_type": "display_data"
    }
   ],
   "source": [
    "#Moving Average Plotted\n",
    "pd.rolling_mean(data, 2).plot(kind='bar')"
   ]
  },
  {
   "cell_type": "code",
   "execution_count": 14,
   "metadata": {
    "collapsed": false
   },
   "outputs": [
    {
     "data": {
      "text/plain": [
       "<matplotlib.axes._subplots.AxesSubplot at 0x10fbf0750>"
      ]
     },
     "execution_count": 14,
     "metadata": {},
     "output_type": "execute_result"
    },
    {
     "data": {
      "image/png": "[encoded data removed]",
      "text/plain": [
       "<matplotlib.figure.Figure at 0x10fbf1a50>"
      ]
     },
     "metadata": {},
     "output_type": "display_data"
    }
   ],
   "source": [
    "#Distribution of Ages of the customers\n",
    "cust_age = sql.read_sql('select AGE from customer_demographics', conn)\n",
    "cust_age.plot(kind='hist', bins=30)\n",
    "# No, left skew. Showing use the age of most of our customers are between 25 and 35"
   ]
  },
  {
   "cell_type": "code",
   "execution_count": 15,
   "metadata": {
    "collapsed": false
   },
   "outputs": [
    {
     "data": {
      "text/plain": [
       "<matplotlib.axes._subplots.AxesSubplot at 0x1110347d0>"
      ]
     },
     "execution_count": 15,
     "metadata": {},
     "output_type": "execute_result"
    },
    {
     "data": {
      "image/png": "[encoded data removed]",
      "text/plain": [
       "<matplotlib.figure.Figure at 0x10fab6050>"
      ]
     },
     "metadata": {},
     "output_type": "display_data"
    }
   ],
   "source": [
    "# Same distrubtion with less bins, to see if it changes.\n",
    "cust_age.plot(kind='hist', bins=10)"
   ]
  },
  {
   "cell_type": "code",
   "execution_count": 49,
   "metadata": {
    "collapsed": false
   },
   "outputs": [
    {
     "data": {
      "text/html": [
       "<div>\n",
       "<table border=\"1\" class=\"dataframe\">\n",
       "  <thead>\n",
       "    <tr style=\"text-align: right;\">\n",
       "      <th></th>\n",
       "      <th>ID</th>\n",
       "      <th>LIMIT_BAL</th>\n",
       "      <th>next_default</th>\n",
       "    </tr>\n",
       "  </thead>\n",
       "  <tbody>\n",
       "    <tr>\n",
       "      <th>0</th>\n",
       "      <td>1</td>\n",
       "      <td>20000</td>\n",
       "      <td>1</td>\n",
       "    </tr>\n",
       "    <tr>\n",
       "      <th>1</th>\n",
       "      <td>2</td>\n",
       "      <td>120000</td>\n",
       "      <td>1</td>\n",
       "    </tr>\n",
       "    <tr>\n",
       "      <th>2</th>\n",
       "      <td>3</td>\n",
       "      <td>90000</td>\n",
       "      <td>0</td>\n",
       "    </tr>\n",
       "    <tr>\n",
       "      <th>3</th>\n",
       "      <td>4</td>\n",
       "      <td>50000</td>\n",
       "      <td>0</td>\n",
       "    </tr>\n",
       "    <tr>\n",
       "      <th>4</th>\n",
       "      <td>5</td>\n",
       "      <td>50000</td>\n",
       "      <td>0</td>\n",
       "    </tr>\n",
       "  </tbody>\n",
       "</table>\n",
       "</div>"
      ],
      "text/plain": [
       "   ID  LIMIT_BAL  next_default\n",
       "0   1      20000             1\n",
       "1   2     120000             1\n",
       "2   3      90000             0\n",
       "3   4      50000             0\n",
       "4   5      50000             0"
      ]
     },
     "execution_count": 49,
     "metadata": {},
     "output_type": "execute_result"
    }
   ],
   "source": [
    "#Renaming column\n",
    "default = sql.read_sql('select * from payment_history', conn)\n",
    "default.rename(columns={'default payment next month': 'next_default'}).head()"
   ]
  },
  {
   "cell_type": "code",
   "execution_count": 17,
   "metadata": {
    "collapsed": false
   },
   "outputs": [
    {
     "data": {
      "text/html": [
       "<div>\n",
       "<table border=\"1\" class=\"dataframe\">\n",
       "  <thead>\n",
       "    <tr style=\"text-align: right;\">\n",
       "      <th></th>\n",
       "      <th>ID</th>\n",
       "      <th>PAY_STAT_SEP</th>\n",
       "      <th>PAY_STAT_AUG</th>\n",
       "      <th>PAY_STAT_JUL</th>\n",
       "      <th>PAY_STAT_JUN</th>\n",
       "      <th>PAY_STAT_MAY</th>\n",
       "      <th>PAY_STAT_APR</th>\n",
       "    </tr>\n",
       "  </thead>\n",
       "  <tbody>\n",
       "    <tr>\n",
       "      <th>0</th>\n",
       "      <td>1</td>\n",
       "      <td>2</td>\n",
       "      <td>2</td>\n",
       "      <td>-1</td>\n",
       "      <td>-1</td>\n",
       "      <td>-2</td>\n",
       "      <td>-2</td>\n",
       "    </tr>\n",
       "    <tr>\n",
       "      <th>1</th>\n",
       "      <td>2</td>\n",
       "      <td>-1</td>\n",
       "      <td>2</td>\n",
       "      <td>0</td>\n",
       "      <td>0</td>\n",
       "      <td>0</td>\n",
       "      <td>2</td>\n",
       "    </tr>\n",
       "    <tr>\n",
       "      <th>2</th>\n",
       "      <td>3</td>\n",
       "      <td>0</td>\n",
       "      <td>0</td>\n",
       "      <td>0</td>\n",
       "      <td>0</td>\n",
       "      <td>0</td>\n",
       "      <td>0</td>\n",
       "    </tr>\n",
       "    <tr>\n",
       "      <th>3</th>\n",
       "      <td>4</td>\n",
       "      <td>0</td>\n",
       "      <td>0</td>\n",
       "      <td>0</td>\n",
       "      <td>0</td>\n",
       "      <td>0</td>\n",
       "      <td>0</td>\n",
       "    </tr>\n",
       "    <tr>\n",
       "      <th>4</th>\n",
       "      <td>5</td>\n",
       "      <td>-1</td>\n",
       "      <td>0</td>\n",
       "      <td>-1</td>\n",
       "      <td>0</td>\n",
       "      <td>0</td>\n",
       "      <td>0</td>\n",
       "    </tr>\n",
       "  </tbody>\n",
       "</table>\n",
       "</div>"
      ],
      "text/plain": [
       "   ID  PAY_STAT_SEP  PAY_STAT_AUG  PAY_STAT_JUL  PAY_STAT_JUN  PAY_STAT_MAY  \\\n",
       "0   1             2             2            -1            -1            -2   \n",
       "1   2            -1             2             0             0             0   \n",
       "2   3             0             0             0             0             0   \n",
       "3   4             0             0             0             0             0   \n",
       "4   5            -1             0            -1             0             0   \n",
       "\n",
       "   PAY_STAT_APR  \n",
       "0            -2  \n",
       "1             2  \n",
       "2             0  \n",
       "3             0  \n",
       "4             0  "
      ]
     },
     "execution_count": 17,
     "metadata": {},
     "output_type": "execute_result"
    }
   ],
   "source": [
    "# looking at payment status as for modeling\n",
    "payst = sql.read_sql('select * from payment_status ', conn).head()\n",
    "payst.head()"
   ]
  },
  {
   "cell_type": "markdown",
   "metadata": {
    "collapsed": true
   },
   "source": [
    "# Modeling"
   ]
  },
  {
   "cell_type": "code",
   "execution_count": 18,
   "metadata": {
    "collapsed": true
   },
   "outputs": [],
   "source": [
    "#Tables to merge to later build model with information\n",
    "sql.read_sql('select * from payment_history', conn).head()\n",
    "payst = sql.read_sql('select * from payment_status ', conn).head()"
   ]
  },
  {
   "cell_type": "code",
   "execution_count": 19,
   "metadata": {
    "collapsed": true
   },
   "outputs": [],
   "source": [
    "# Sql command joing two tables to get desired information for modeling\n",
    "miss_pay = sql.read_sql('SELECT * FROM payment_history JOIN payment_status ON payment_history.ID=payment_status.ID;', conn)\n",
    "#ON Orders.CustomerID=Customers.CustomerID; "
   ]
  },
  {
   "cell_type": "code",
   "execution_count": 20,
   "metadata": {
    "collapsed": false
   },
   "outputs": [],
   "source": [
    "# creating X and y for modeling\n",
    "# would like to predict if the would default status\n",
    "X = miss_pay.drop(miss_pay[['default payment next month', 'ID']], axis=1)\n",
    "y = miss_pay['default payment next month']"
   ]
  },
  {
   "cell_type": "code",
   "execution_count": 21,
   "metadata": {
    "collapsed": false
   },
   "outputs": [
    {
     "name": "stdout",
     "output_type": "stream",
     "text": [
      "0    23364\n",
      "1     6636\n",
      "Name: default payment next month, dtype: int64\n"
     ]
    }
   ],
   "source": [
    "# checking for un-balanced classes\n",
    "print (y.value_counts())\n",
    "# Lets use stratified cross validation to deal with unbalaced classes\n",
    "X_train, X_test, y_train, y_test = train_test_split(X, y, stratify=y)"
   ]
  },
  {
   "cell_type": "code",
   "execution_count": 22,
   "metadata": {
    "collapsed": false
   },
   "outputs": [],
   "source": [
    "# Lets used randome forest, we will be trying to predict in a customer will default or not\n",
    "from sklearn.ensemble import RandomForestClassifier"
   ]
  },
  {
   "cell_type": "code",
   "execution_count": 23,
   "metadata": {
    "collapsed": false
   },
   "outputs": [
    {
     "name": "stdout",
     "output_type": "stream",
     "text": [
      "Score 86.2888888889\n"
     ]
    }
   ],
   "source": [
    "rdf = RandomForestClassifier(n_jobs=-1, random_state=5)\n",
    "rdf.fit(X_train, y_train)\n",
    "score = rdf.score(X_train, y_train)\n",
    "print 'Score ' + str(score * 100)"
   ]
  },
  {
   "cell_type": "code",
   "execution_count": 24,
   "metadata": {
    "collapsed": false
   },
   "outputs": [],
   "source": [
    "#rdf.fit(X_train, y_train)"
   ]
  },
  {
   "cell_type": "code",
   "execution_count": 25,
   "metadata": {
    "collapsed": true
   },
   "outputs": [],
   "source": [
    "rdc = RandomForestClassifier"
   ]
  },
  {
   "cell_type": "code",
   "execution_count": 32,
   "metadata": {
    "collapsed": false
   },
   "outputs": [
    {
     "data": {
      "text/html": [
       "<div>\n",
       "<table border=\"1\" class=\"dataframe\">\n",
       "  <thead>\n",
       "    <tr style=\"text-align: right;\">\n",
       "      <th></th>\n",
       "      <th>ID</th>\n",
       "      <th>SEX</th>\n",
       "      <th>EDUCATION</th>\n",
       "      <th>MARRIAGE</th>\n",
       "      <th>AGE</th>\n",
       "    </tr>\n",
       "  </thead>\n",
       "  <tbody>\n",
       "    <tr>\n",
       "      <th>0</th>\n",
       "      <td>1</td>\n",
       "      <td>2</td>\n",
       "      <td>2.0</td>\n",
       "      <td>1</td>\n",
       "      <td>24</td>\n",
       "    </tr>\n",
       "    <tr>\n",
       "      <th>1</th>\n",
       "      <td>2</td>\n",
       "      <td>2</td>\n",
       "      <td>2.0</td>\n",
       "      <td>2</td>\n",
       "      <td>26</td>\n",
       "    </tr>\n",
       "    <tr>\n",
       "      <th>2</th>\n",
       "      <td>3</td>\n",
       "      <td>2</td>\n",
       "      <td>2.0</td>\n",
       "      <td>2</td>\n",
       "      <td>34</td>\n",
       "    </tr>\n",
       "    <tr>\n",
       "      <th>3</th>\n",
       "      <td>4</td>\n",
       "      <td>2</td>\n",
       "      <td>2.0</td>\n",
       "      <td>1</td>\n",
       "      <td>37</td>\n",
       "    </tr>\n",
       "    <tr>\n",
       "      <th>4</th>\n",
       "      <td>5</td>\n",
       "      <td>1</td>\n",
       "      <td>2.0</td>\n",
       "      <td>1</td>\n",
       "      <td>57</td>\n",
       "    </tr>\n",
       "  </tbody>\n",
       "</table>\n",
       "</div>"
      ],
      "text/plain": [
       "   ID  SEX  EDUCATION  MARRIAGE  AGE\n",
       "0   1    2        2.0         1   24\n",
       "1   2    2        2.0         2   26\n",
       "2   3    2        2.0         2   34\n",
       "3   4    2        2.0         1   37\n",
       "4   5    1        2.0         1   57"
      ]
     },
     "execution_count": 32,
     "metadata": {},
     "output_type": "execute_result"
    }
   ],
   "source": [
    "#Lets see if our score goes up if we add customer demgraphics\n",
    "# Back to SQL\n",
    "dem = sql.read_sql('SELECT * FROM customer_demographics JOIN ;', conn)"
   ]
  },
  {
   "cell_type": "code",
   "execution_count": 38,
   "metadata": {
    "collapsed": false
   },
   "outputs": [],
   "source": [
    "#lets merge our new dataframe to our X\n",
    "new_df = pd.concat([dem,X], axis=1)\n",
    "#Now lets Retrain our train test split\n",
    "X_train2, X_test2, y_train2, y_test2 = train_test_split(X, y, stratify=y)"
   ]
  },
  {
   "cell_type": "code",
   "execution_count": 48,
   "metadata": {
    "collapsed": false
   },
   "outputs": [
    {
     "name": "stdout",
     "output_type": "stream",
     "text": [
      "Score 86.5777777778\n"
     ]
    }
   ],
   "source": [
    "#Lets fit random forest again\n",
    "rdf2 = RandomForestClassifier(n_jobs=-1, random_state=5, max_features=2)\n",
    "rdf2.fit(X_train2, y_train2)\n",
    "score2 = rdf2.score(X_train2, y_train2)\n",
    "print 'Score ' + str(score2 * 100)"
   ]
  },
  {
   "cell_type": "markdown",
   "metadata": {},
   "source": [
    "# Conclusion\n",
    "Looks like even with customer demographics our model didnt do much better. This Lab mainly focused on the SQL to pandas manipulation of data."
   ]
  }
 ],
 "metadata": {
  "anaconda-cloud": {},
  "kernelspec": {
   "display_name": "Python [conda root]",
   "language": "python",
   "name": "conda-root-py"
  },
  "language_info": {
   "codemirror_mode": {
    "name": "ipython",
    "version": 2
   },
   "file_extension": ".py",
   "mimetype": "text/x-python",
   "name": "python",
   "nbconvert_exporter": "python",
   "pygments_lexer": "ipython2",
   "version": "2.7.12"
  }
 },
 "nbformat": 4,
 "nbformat_minor": 1
}
